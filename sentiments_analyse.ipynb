{
 "cells": [
  {
   "cell_type": "code",
   "execution_count": 1,
   "id": "b6cebf29",
   "metadata": {},
   "outputs": [],
   "source": [
    "import pandas as pd\n",
    "import numpy as np\n",
    "from textblob import TextBlob #for processing textual data. It provides a simple API for diving into common natural\n",
    "#language processing (NLP) tasks such as part-of-speech tagging, noun phrase extraction, sentiment analysis, \n",
    "# classification, translation, and more"
   ]
  },
  {
   "cell_type": "code",
   "execution_count": 2,
   "id": "f3c120fe",
   "metadata": {},
   "outputs": [],
   "source": [
    "modi=pd.read_csv('modi_reviews.csv')\n",
    "rahul=pd.read_csv('rahul_reviews.csv')"
   ]
  },
  {
   "cell_type": "code",
   "execution_count": 3,
   "id": "1d872576",
   "metadata": {},
   "outputs": [
    {
     "data": {
      "text/plain": [
       "(14261, 3)"
      ]
     },
     "execution_count": 3,
     "metadata": {},
     "output_type": "execute_result"
    }
   ],
   "source": [
    "rahul.shape"
   ]
  },
  {
   "cell_type": "code",
   "execution_count": 4,
   "id": "ee16db32",
   "metadata": {},
   "outputs": [
    {
     "data": {
      "text/plain": [
       "(25688, 3)"
      ]
     },
     "execution_count": 4,
     "metadata": {},
     "output_type": "execute_result"
    }
   ],
   "source": [
    "modi.shape\n"
   ]
  },
  {
   "cell_type": "code",
   "execution_count": 5,
   "id": "027ca5c5",
   "metadata": {},
   "outputs": [
    {
     "data": {
      "text/plain": [
       "Sentiment(polarity=0.35, subjectivity=0.36250000000000004)"
      ]
     },
     "execution_count": 5,
     "metadata": {},
     "output_type": "execute_result"
    }
   ],
   "source": [
    "TextBlob(modi['Tweet'][0]).sentiment"
   ]
  },
  {
   "cell_type": "code",
   "execution_count": 6,
   "id": "8ecfd702",
   "metadata": {},
   "outputs": [],
   "source": [
    "raza='raza is a bad boy'\n"
   ]
  },
  {
   "cell_type": "code",
   "execution_count": 7,
   "id": "1c947ff1",
   "metadata": {},
   "outputs": [
    {
     "data": {
      "text/plain": [
       "Sentiment(polarity=-0.6999999999999998, subjectivity=0.6666666666666666)"
      ]
     },
     "execution_count": 7,
     "metadata": {},
     "output_type": "execute_result"
    }
   ],
   "source": [
    "TextBlob(raza).sentiment  # here you can easily check the positive or negative sentiments"
   ]
  },
  {
   "cell_type": "code",
   "execution_count": 8,
   "id": "02062074",
   "metadata": {},
   "outputs": [],
   "source": [
    "modi['Tweet']=modi['Tweet'].astype(str) # changing the datatype of object\n",
    "rahul['Tweet']=rahul['Tweet'].astype(str)"
   ]
  },
  {
   "cell_type": "code",
   "execution_count": 9,
   "id": "16df6952",
   "metadata": {},
   "outputs": [],
   "source": [
    "def find_polarity(review):\n",
    "    return TextBlob(review).sentiment.polarity"
   ]
  },
  {
   "cell_type": "code",
   "execution_count": 10,
   "id": "bafc90ac",
   "metadata": {},
   "outputs": [],
   "source": [
    "modi['polarity']=modi['Tweet'].apply(find_polarity)"
   ]
  },
  {
   "cell_type": "code",
   "execution_count": 11,
   "id": "b730c784",
   "metadata": {},
   "outputs": [
    {
     "data": {
      "text/html": [
       "<div>\n",
       "<style scoped>\n",
       "    .dataframe tbody tr th:only-of-type {\n",
       "        vertical-align: middle;\n",
       "    }\n",
       "\n",
       "    .dataframe tbody tr th {\n",
       "        vertical-align: top;\n",
       "    }\n",
       "\n",
       "    .dataframe thead th {\n",
       "        text-align: right;\n",
       "    }\n",
       "</style>\n",
       "<table border=\"1\" class=\"dataframe\">\n",
       "  <thead>\n",
       "    <tr style=\"text-align: right;\">\n",
       "      <th></th>\n",
       "      <th>Unnamed: 0</th>\n",
       "      <th>User</th>\n",
       "      <th>Tweet</th>\n",
       "      <th>polarity</th>\n",
       "    </tr>\n",
       "  </thead>\n",
       "  <tbody>\n",
       "    <tr>\n",
       "      <th>0</th>\n",
       "      <td>0</td>\n",
       "      <td>advosushildixit</td>\n",
       "      <td>@anjanaomkashyap I am seeing you as future #bj...</td>\n",
       "      <td>0.350000</td>\n",
       "    </tr>\n",
       "    <tr>\n",
       "      <th>1</th>\n",
       "      <td>1</td>\n",
       "      <td>jiaeur</td>\n",
       "      <td>#LokSabhaElections2019 \\n23rd May 2019 will re...</td>\n",
       "      <td>0.800000</td>\n",
       "    </tr>\n",
       "    <tr>\n",
       "      <th>2</th>\n",
       "      <td>2</td>\n",
       "      <td>PVenkatGandhi</td>\n",
       "      <td>#LokSabhaElections2019 \\n23rd May 2019 will re...</td>\n",
       "      <td>0.800000</td>\n",
       "    </tr>\n",
       "    <tr>\n",
       "      <th>3</th>\n",
       "      <td>3</td>\n",
       "      <td>TheNirbhay1</td>\n",
       "      <td>PM Modi creates a new record of being the only...</td>\n",
       "      <td>0.312121</td>\n",
       "    </tr>\n",
       "    <tr>\n",
       "      <th>4</th>\n",
       "      <td>4</td>\n",
       "      <td>ShakeChilli</td>\n",
       "      <td>@abhijitmajumder Appointment of Successor! \\n\\...</td>\n",
       "      <td>0.098788</td>\n",
       "    </tr>\n",
       "    <tr>\n",
       "      <th>...</th>\n",
       "      <td>...</td>\n",
       "      <td>...</td>\n",
       "      <td>...</td>\n",
       "      <td>...</td>\n",
       "    </tr>\n",
       "    <tr>\n",
       "      <th>25683</th>\n",
       "      <td>25683</td>\n",
       "      <td>shv_indian</td>\n",
       "      <td>#1DDrive #ModiSpeaksToNews18 #LokSabhaElection...</td>\n",
       "      <td>0.000000</td>\n",
       "    </tr>\n",
       "    <tr>\n",
       "      <th>25684</th>\n",
       "      <td>25684</td>\n",
       "      <td>SONUPINKOO</td>\n",
       "      <td>I am seriously worried about future of Indian ...</td>\n",
       "      <td>0.209524</td>\n",
       "    </tr>\n",
       "    <tr>\n",
       "      <th>25685</th>\n",
       "      <td>25685</td>\n",
       "      <td>SONUPINKOO</td>\n",
       "      <td>If @narendramodi is so Bad then Why does @INCI...</td>\n",
       "      <td>-0.700000</td>\n",
       "    </tr>\n",
       "    <tr>\n",
       "      <th>25686</th>\n",
       "      <td>25686</td>\n",
       "      <td>SONUPINKOO</td>\n",
       "      <td>On this 23rd March (Pakistan Day), I Urge all ...</td>\n",
       "      <td>0.000000</td>\n",
       "    </tr>\n",
       "    <tr>\n",
       "      <th>25687</th>\n",
       "      <td>25687</td>\n",
       "      <td>parthajit0101</td>\n",
       "      <td>@timesofindia #ArvindKejriwal, #AAP sirji pls ...</td>\n",
       "      <td>-0.213542</td>\n",
       "    </tr>\n",
       "  </tbody>\n",
       "</table>\n",
       "<p>25688 rows × 4 columns</p>\n",
       "</div>"
      ],
      "text/plain": [
       "       Unnamed: 0             User  \\\n",
       "0               0  advosushildixit   \n",
       "1               1           jiaeur   \n",
       "2               2    PVenkatGandhi   \n",
       "3               3      TheNirbhay1   \n",
       "4               4      ShakeChilli   \n",
       "...           ...              ...   \n",
       "25683       25683       shv_indian   \n",
       "25684       25684       SONUPINKOO   \n",
       "25685       25685       SONUPINKOO   \n",
       "25686       25686       SONUPINKOO   \n",
       "25687       25687    parthajit0101   \n",
       "\n",
       "                                                   Tweet  polarity  \n",
       "0      @anjanaomkashyap I am seeing you as future #bj...  0.350000  \n",
       "1      #LokSabhaElections2019 \\n23rd May 2019 will re...  0.800000  \n",
       "2      #LokSabhaElections2019 \\n23rd May 2019 will re...  0.800000  \n",
       "3      PM Modi creates a new record of being the only...  0.312121  \n",
       "4      @abhijitmajumder Appointment of Successor! \\n\\...  0.098788  \n",
       "...                                                  ...       ...  \n",
       "25683  #1DDrive #ModiSpeaksToNews18 #LokSabhaElection...  0.000000  \n",
       "25684  I am seriously worried about future of Indian ...  0.209524  \n",
       "25685  If @narendramodi is so Bad then Why does @INCI... -0.700000  \n",
       "25686  On this 23rd March (Pakistan Day), I Urge all ...  0.000000  \n",
       "25687  @timesofindia #ArvindKejriwal, #AAP sirji pls ... -0.213542  \n",
       "\n",
       "[25688 rows x 4 columns]"
      ]
     },
     "execution_count": 11,
     "metadata": {},
     "output_type": "execute_result"
    }
   ],
   "source": [
    "modi"
   ]
  },
  {
   "cell_type": "code",
   "execution_count": 12,
   "id": "d5c16c7b",
   "metadata": {},
   "outputs": [],
   "source": [
    "rahul['polarity']=rahul['Tweet'].apply(find_polarity)"
   ]
  },
  {
   "cell_type": "code",
   "execution_count": 13,
   "id": "94451481",
   "metadata": {},
   "outputs": [
    {
     "data": {
      "text/html": [
       "<div>\n",
       "<style scoped>\n",
       "    .dataframe tbody tr th:only-of-type {\n",
       "        vertical-align: middle;\n",
       "    }\n",
       "\n",
       "    .dataframe tbody tr th {\n",
       "        vertical-align: top;\n",
       "    }\n",
       "\n",
       "    .dataframe thead th {\n",
       "        text-align: right;\n",
       "    }\n",
       "</style>\n",
       "<table border=\"1\" class=\"dataframe\">\n",
       "  <thead>\n",
       "    <tr style=\"text-align: right;\">\n",
       "      <th></th>\n",
       "      <th>Unnamed: 0</th>\n",
       "      <th>User</th>\n",
       "      <th>Tweet</th>\n",
       "      <th>polarity</th>\n",
       "    </tr>\n",
       "  </thead>\n",
       "  <tbody>\n",
       "    <tr>\n",
       "      <th>0</th>\n",
       "      <td>0</td>\n",
       "      <td>Sunnysweet16</td>\n",
       "      <td>Wonder why no academic or journalist asks INC ...</td>\n",
       "      <td>0.218750</td>\n",
       "    </tr>\n",
       "    <tr>\n",
       "      <th>1</th>\n",
       "      <td>1</td>\n",
       "      <td>drnitinchaube</td>\n",
       "      <td>Congrats for the change #australiavotes2019 an...</td>\n",
       "      <td>0.000000</td>\n",
       "    </tr>\n",
       "    <tr>\n",
       "      <th>2</th>\n",
       "      <td>2</td>\n",
       "      <td>mrvivek07</td>\n",
       "      <td>Peopel Say “Govt Ne 70 Years Kya kiya”.\\nUnse ...</td>\n",
       "      <td>0.000000</td>\n",
       "    </tr>\n",
       "    <tr>\n",
       "      <th>3</th>\n",
       "      <td>3</td>\n",
       "      <td>JosephPravinP</td>\n",
       "      <td>@ajaymaken @RahulGandhi And as a final touch, ...</td>\n",
       "      <td>0.320000</td>\n",
       "    </tr>\n",
       "    <tr>\n",
       "      <th>4</th>\n",
       "      <td>4</td>\n",
       "      <td>VandanaMegastar</td>\n",
       "      <td>#LokSabhaElections2019 Anyone not having mass ...</td>\n",
       "      <td>-0.166667</td>\n",
       "    </tr>\n",
       "    <tr>\n",
       "      <th>...</th>\n",
       "      <td>...</td>\n",
       "      <td>...</td>\n",
       "      <td>...</td>\n",
       "      <td>...</td>\n",
       "    </tr>\n",
       "    <tr>\n",
       "      <th>14256</th>\n",
       "      <td>14256</td>\n",
       "      <td>SunjayJK</td>\n",
       "      <td>@quizzicalguy In this #LokSabhaElections2019, ...</td>\n",
       "      <td>0.000000</td>\n",
       "    </tr>\n",
       "    <tr>\n",
       "      <th>14257</th>\n",
       "      <td>14257</td>\n",
       "      <td>SunjayJK</td>\n",
       "      <td>@AnumaVidisha @RahulGandhi @ArvindKejriwal whe...</td>\n",
       "      <td>-0.500000</td>\n",
       "    </tr>\n",
       "    <tr>\n",
       "      <th>14258</th>\n",
       "      <td>14258</td>\n",
       "      <td>RAMANKAIRA</td>\n",
       "      <td>@sherryontopp Early morning #political move af...</td>\n",
       "      <td>0.080000</td>\n",
       "    </tr>\n",
       "    <tr>\n",
       "      <th>14259</th>\n",
       "      <td>14259</td>\n",
       "      <td>RAMANKAIRA</td>\n",
       "      <td>@mayankgandhi04 @mallesh_2004 Early morning #p...</td>\n",
       "      <td>0.080000</td>\n",
       "    </tr>\n",
       "    <tr>\n",
       "      <th>14260</th>\n",
       "      <td>14260</td>\n",
       "      <td>RAMANKAIRA</td>\n",
       "      <td>@DrKumarVishwas Early morning #political move ...</td>\n",
       "      <td>0.080000</td>\n",
       "    </tr>\n",
       "  </tbody>\n",
       "</table>\n",
       "<p>14261 rows × 4 columns</p>\n",
       "</div>"
      ],
      "text/plain": [
       "       Unnamed: 0             User  \\\n",
       "0               0     Sunnysweet16   \n",
       "1               1    drnitinchaube   \n",
       "2               2        mrvivek07   \n",
       "3               3    JosephPravinP   \n",
       "4               4  VandanaMegastar   \n",
       "...           ...              ...   \n",
       "14256       14256         SunjayJK   \n",
       "14257       14257         SunjayJK   \n",
       "14258       14258       RAMANKAIRA   \n",
       "14259       14259       RAMANKAIRA   \n",
       "14260       14260       RAMANKAIRA   \n",
       "\n",
       "                                                   Tweet  polarity  \n",
       "0      Wonder why no academic or journalist asks INC ...  0.218750  \n",
       "1      Congrats for the change #australiavotes2019 an...  0.000000  \n",
       "2      Peopel Say “Govt Ne 70 Years Kya kiya”.\\nUnse ...  0.000000  \n",
       "3      @ajaymaken @RahulGandhi And as a final touch, ...  0.320000  \n",
       "4      #LokSabhaElections2019 Anyone not having mass ... -0.166667  \n",
       "...                                                  ...       ...  \n",
       "14256  @quizzicalguy In this #LokSabhaElections2019, ...  0.000000  \n",
       "14257  @AnumaVidisha @RahulGandhi @ArvindKejriwal whe... -0.500000  \n",
       "14258  @sherryontopp Early morning #political move af...  0.080000  \n",
       "14259  @mayankgandhi04 @mallesh_2004 Early morning #p...  0.080000  \n",
       "14260  @DrKumarVishwas Early morning #political move ...  0.080000  \n",
       "\n",
       "[14261 rows x 4 columns]"
      ]
     },
     "execution_count": 13,
     "metadata": {},
     "output_type": "execute_result"
    }
   ],
   "source": [
    "rahul"
   ]
  },
  {
   "cell_type": "code",
   "execution_count": 14,
   "id": "db420bd9",
   "metadata": {},
   "outputs": [
    {
     "name": "stderr",
     "output_type": "stream",
     "text": [
      "C:\\Users\\Lenovo\\AppData\\Local\\Temp\\ipykernel_14276\\2591046932.py:2: SettingWithCopyWarning: \n",
      "A value is trying to be set on a copy of a slice from a DataFrame\n",
      "\n",
      "See the caveats in the documentation: https://pandas.pydata.org/pandas-docs/stable/user_guide/indexing.html#returning-a-view-versus-a-copy\n",
      "  modi['label'][modi['polarity']==0]='neutral'\n"
     ]
    }
   ],
   "source": [
    "modi['label']=np.where(modi['polarity']>0,'positive','negative')\n",
    "modi['label'][modi['polarity']==0]='neutral'"
   ]
  },
  {
   "cell_type": "code",
   "execution_count": 15,
   "id": "37701e95",
   "metadata": {},
   "outputs": [
    {
     "data": {
      "text/html": [
       "<div>\n",
       "<style scoped>\n",
       "    .dataframe tbody tr th:only-of-type {\n",
       "        vertical-align: middle;\n",
       "    }\n",
       "\n",
       "    .dataframe tbody tr th {\n",
       "        vertical-align: top;\n",
       "    }\n",
       "\n",
       "    .dataframe thead th {\n",
       "        text-align: right;\n",
       "    }\n",
       "</style>\n",
       "<table border=\"1\" class=\"dataframe\">\n",
       "  <thead>\n",
       "    <tr style=\"text-align: right;\">\n",
       "      <th></th>\n",
       "      <th>Unnamed: 0</th>\n",
       "      <th>User</th>\n",
       "      <th>Tweet</th>\n",
       "      <th>polarity</th>\n",
       "      <th>label</th>\n",
       "    </tr>\n",
       "  </thead>\n",
       "  <tbody>\n",
       "    <tr>\n",
       "      <th>0</th>\n",
       "      <td>0</td>\n",
       "      <td>advosushildixit</td>\n",
       "      <td>@anjanaomkashyap I am seeing you as future #bj...</td>\n",
       "      <td>0.350000</td>\n",
       "      <td>positive</td>\n",
       "    </tr>\n",
       "    <tr>\n",
       "      <th>1</th>\n",
       "      <td>1</td>\n",
       "      <td>jiaeur</td>\n",
       "      <td>#LokSabhaElections2019 \\n23rd May 2019 will re...</td>\n",
       "      <td>0.800000</td>\n",
       "      <td>positive</td>\n",
       "    </tr>\n",
       "    <tr>\n",
       "      <th>2</th>\n",
       "      <td>2</td>\n",
       "      <td>PVenkatGandhi</td>\n",
       "      <td>#LokSabhaElections2019 \\n23rd May 2019 will re...</td>\n",
       "      <td>0.800000</td>\n",
       "      <td>positive</td>\n",
       "    </tr>\n",
       "    <tr>\n",
       "      <th>3</th>\n",
       "      <td>3</td>\n",
       "      <td>TheNirbhay1</td>\n",
       "      <td>PM Modi creates a new record of being the only...</td>\n",
       "      <td>0.312121</td>\n",
       "      <td>positive</td>\n",
       "    </tr>\n",
       "    <tr>\n",
       "      <th>4</th>\n",
       "      <td>4</td>\n",
       "      <td>ShakeChilli</td>\n",
       "      <td>@abhijitmajumder Appointment of Successor! \\n\\...</td>\n",
       "      <td>0.098788</td>\n",
       "      <td>positive</td>\n",
       "    </tr>\n",
       "    <tr>\n",
       "      <th>...</th>\n",
       "      <td>...</td>\n",
       "      <td>...</td>\n",
       "      <td>...</td>\n",
       "      <td>...</td>\n",
       "      <td>...</td>\n",
       "    </tr>\n",
       "    <tr>\n",
       "      <th>25683</th>\n",
       "      <td>25683</td>\n",
       "      <td>shv_indian</td>\n",
       "      <td>#1DDrive #ModiSpeaksToNews18 #LokSabhaElection...</td>\n",
       "      <td>0.000000</td>\n",
       "      <td>neutral</td>\n",
       "    </tr>\n",
       "    <tr>\n",
       "      <th>25684</th>\n",
       "      <td>25684</td>\n",
       "      <td>SONUPINKOO</td>\n",
       "      <td>I am seriously worried about future of Indian ...</td>\n",
       "      <td>0.209524</td>\n",
       "      <td>positive</td>\n",
       "    </tr>\n",
       "    <tr>\n",
       "      <th>25685</th>\n",
       "      <td>25685</td>\n",
       "      <td>SONUPINKOO</td>\n",
       "      <td>If @narendramodi is so Bad then Why does @INCI...</td>\n",
       "      <td>-0.700000</td>\n",
       "      <td>negative</td>\n",
       "    </tr>\n",
       "    <tr>\n",
       "      <th>25686</th>\n",
       "      <td>25686</td>\n",
       "      <td>SONUPINKOO</td>\n",
       "      <td>On this 23rd March (Pakistan Day), I Urge all ...</td>\n",
       "      <td>0.000000</td>\n",
       "      <td>neutral</td>\n",
       "    </tr>\n",
       "    <tr>\n",
       "      <th>25687</th>\n",
       "      <td>25687</td>\n",
       "      <td>parthajit0101</td>\n",
       "      <td>@timesofindia #ArvindKejriwal, #AAP sirji pls ...</td>\n",
       "      <td>-0.213542</td>\n",
       "      <td>negative</td>\n",
       "    </tr>\n",
       "  </tbody>\n",
       "</table>\n",
       "<p>25688 rows × 5 columns</p>\n",
       "</div>"
      ],
      "text/plain": [
       "       Unnamed: 0             User  \\\n",
       "0               0  advosushildixit   \n",
       "1               1           jiaeur   \n",
       "2               2    PVenkatGandhi   \n",
       "3               3      TheNirbhay1   \n",
       "4               4      ShakeChilli   \n",
       "...           ...              ...   \n",
       "25683       25683       shv_indian   \n",
       "25684       25684       SONUPINKOO   \n",
       "25685       25685       SONUPINKOO   \n",
       "25686       25686       SONUPINKOO   \n",
       "25687       25687    parthajit0101   \n",
       "\n",
       "                                                   Tweet  polarity     label  \n",
       "0      @anjanaomkashyap I am seeing you as future #bj...  0.350000  positive  \n",
       "1      #LokSabhaElections2019 \\n23rd May 2019 will re...  0.800000  positive  \n",
       "2      #LokSabhaElections2019 \\n23rd May 2019 will re...  0.800000  positive  \n",
       "3      PM Modi creates a new record of being the only...  0.312121  positive  \n",
       "4      @abhijitmajumder Appointment of Successor! \\n\\...  0.098788  positive  \n",
       "...                                                  ...       ...       ...  \n",
       "25683  #1DDrive #ModiSpeaksToNews18 #LokSabhaElection...  0.000000   neutral  \n",
       "25684  I am seriously worried about future of Indian ...  0.209524  positive  \n",
       "25685  If @narendramodi is so Bad then Why does @INCI... -0.700000  negative  \n",
       "25686  On this 23rd March (Pakistan Day), I Urge all ...  0.000000   neutral  \n",
       "25687  @timesofindia #ArvindKejriwal, #AAP sirji pls ... -0.213542  negative  \n",
       "\n",
       "[25688 rows x 5 columns]"
      ]
     },
     "execution_count": 15,
     "metadata": {},
     "output_type": "execute_result"
    }
   ],
   "source": [
    "modi"
   ]
  },
  {
   "cell_type": "code",
   "execution_count": 16,
   "id": "0cfba2e2",
   "metadata": {},
   "outputs": [
    {
     "name": "stderr",
     "output_type": "stream",
     "text": [
      "C:\\Users\\Lenovo\\AppData\\Local\\Temp\\ipykernel_14276\\3120034751.py:2: SettingWithCopyWarning: \n",
      "A value is trying to be set on a copy of a slice from a DataFrame\n",
      "\n",
      "See the caveats in the documentation: https://pandas.pydata.org/pandas-docs/stable/user_guide/indexing.html#returning-a-view-versus-a-copy\n",
      "  rahul['label'][modi['polarity']==0]='Neutral'\n"
     ]
    }
   ],
   "source": [
    "rahul['label']=np.where(rahul['polarity']>0,'positive','negative')\n",
    "rahul['label'][modi['polarity']==0]='Neutral'"
   ]
  },
  {
   "cell_type": "code",
   "execution_count": 17,
   "id": "f1c0d156",
   "metadata": {},
   "outputs": [
    {
     "data": {
      "text/html": [
       "<div>\n",
       "<style scoped>\n",
       "    .dataframe tbody tr th:only-of-type {\n",
       "        vertical-align: middle;\n",
       "    }\n",
       "\n",
       "    .dataframe tbody tr th {\n",
       "        vertical-align: top;\n",
       "    }\n",
       "\n",
       "    .dataframe thead th {\n",
       "        text-align: right;\n",
       "    }\n",
       "</style>\n",
       "<table border=\"1\" class=\"dataframe\">\n",
       "  <thead>\n",
       "    <tr style=\"text-align: right;\">\n",
       "      <th></th>\n",
       "      <th>Unnamed: 0</th>\n",
       "      <th>User</th>\n",
       "      <th>Tweet</th>\n",
       "      <th>polarity</th>\n",
       "      <th>label</th>\n",
       "    </tr>\n",
       "  </thead>\n",
       "  <tbody>\n",
       "    <tr>\n",
       "      <th>0</th>\n",
       "      <td>0</td>\n",
       "      <td>Sunnysweet16</td>\n",
       "      <td>Wonder why no academic or journalist asks INC ...</td>\n",
       "      <td>0.218750</td>\n",
       "      <td>positive</td>\n",
       "    </tr>\n",
       "    <tr>\n",
       "      <th>1</th>\n",
       "      <td>1</td>\n",
       "      <td>drnitinchaube</td>\n",
       "      <td>Congrats for the change #australiavotes2019 an...</td>\n",
       "      <td>0.000000</td>\n",
       "      <td>negative</td>\n",
       "    </tr>\n",
       "    <tr>\n",
       "      <th>2</th>\n",
       "      <td>2</td>\n",
       "      <td>mrvivek07</td>\n",
       "      <td>Peopel Say “Govt Ne 70 Years Kya kiya”.\\nUnse ...</td>\n",
       "      <td>0.000000</td>\n",
       "      <td>negative</td>\n",
       "    </tr>\n",
       "    <tr>\n",
       "      <th>3</th>\n",
       "      <td>3</td>\n",
       "      <td>JosephPravinP</td>\n",
       "      <td>@ajaymaken @RahulGandhi And as a final touch, ...</td>\n",
       "      <td>0.320000</td>\n",
       "      <td>positive</td>\n",
       "    </tr>\n",
       "    <tr>\n",
       "      <th>4</th>\n",
       "      <td>4</td>\n",
       "      <td>VandanaMegastar</td>\n",
       "      <td>#LokSabhaElections2019 Anyone not having mass ...</td>\n",
       "      <td>-0.166667</td>\n",
       "      <td>negative</td>\n",
       "    </tr>\n",
       "    <tr>\n",
       "      <th>...</th>\n",
       "      <td>...</td>\n",
       "      <td>...</td>\n",
       "      <td>...</td>\n",
       "      <td>...</td>\n",
       "      <td>...</td>\n",
       "    </tr>\n",
       "    <tr>\n",
       "      <th>14256</th>\n",
       "      <td>14256</td>\n",
       "      <td>SunjayJK</td>\n",
       "      <td>@quizzicalguy In this #LokSabhaElections2019, ...</td>\n",
       "      <td>0.000000</td>\n",
       "      <td>negative</td>\n",
       "    </tr>\n",
       "    <tr>\n",
       "      <th>14257</th>\n",
       "      <td>14257</td>\n",
       "      <td>SunjayJK</td>\n",
       "      <td>@AnumaVidisha @RahulGandhi @ArvindKejriwal whe...</td>\n",
       "      <td>-0.500000</td>\n",
       "      <td>negative</td>\n",
       "    </tr>\n",
       "    <tr>\n",
       "      <th>14258</th>\n",
       "      <td>14258</td>\n",
       "      <td>RAMANKAIRA</td>\n",
       "      <td>@sherryontopp Early morning #political move af...</td>\n",
       "      <td>0.080000</td>\n",
       "      <td>Neutral</td>\n",
       "    </tr>\n",
       "    <tr>\n",
       "      <th>14259</th>\n",
       "      <td>14259</td>\n",
       "      <td>RAMANKAIRA</td>\n",
       "      <td>@mayankgandhi04 @mallesh_2004 Early morning #p...</td>\n",
       "      <td>0.080000</td>\n",
       "      <td>Neutral</td>\n",
       "    </tr>\n",
       "    <tr>\n",
       "      <th>14260</th>\n",
       "      <td>14260</td>\n",
       "      <td>RAMANKAIRA</td>\n",
       "      <td>@DrKumarVishwas Early morning #political move ...</td>\n",
       "      <td>0.080000</td>\n",
       "      <td>Neutral</td>\n",
       "    </tr>\n",
       "  </tbody>\n",
       "</table>\n",
       "<p>14261 rows × 5 columns</p>\n",
       "</div>"
      ],
      "text/plain": [
       "       Unnamed: 0             User  \\\n",
       "0               0     Sunnysweet16   \n",
       "1               1    drnitinchaube   \n",
       "2               2        mrvivek07   \n",
       "3               3    JosephPravinP   \n",
       "4               4  VandanaMegastar   \n",
       "...           ...              ...   \n",
       "14256       14256         SunjayJK   \n",
       "14257       14257         SunjayJK   \n",
       "14258       14258       RAMANKAIRA   \n",
       "14259       14259       RAMANKAIRA   \n",
       "14260       14260       RAMANKAIRA   \n",
       "\n",
       "                                                   Tweet  polarity     label  \n",
       "0      Wonder why no academic or journalist asks INC ...  0.218750  positive  \n",
       "1      Congrats for the change #australiavotes2019 an...  0.000000  negative  \n",
       "2      Peopel Say “Govt Ne 70 Years Kya kiya”.\\nUnse ...  0.000000  negative  \n",
       "3      @ajaymaken @RahulGandhi And as a final touch, ...  0.320000  positive  \n",
       "4      #LokSabhaElections2019 Anyone not having mass ... -0.166667  negative  \n",
       "...                                                  ...       ...       ...  \n",
       "14256  @quizzicalguy In this #LokSabhaElections2019, ...  0.000000  negative  \n",
       "14257  @AnumaVidisha @RahulGandhi @ArvindKejriwal whe... -0.500000  negative  \n",
       "14258  @sherryontopp Early morning #political move af...  0.080000   Neutral  \n",
       "14259  @mayankgandhi04 @mallesh_2004 Early morning #p...  0.080000   Neutral  \n",
       "14260  @DrKumarVishwas Early morning #political move ...  0.080000   Neutral  \n",
       "\n",
       "[14261 rows x 5 columns]"
      ]
     },
     "execution_count": 17,
     "metadata": {},
     "output_type": "execute_result"
    }
   ],
   "source": [
    "rahul"
   ]
  },
  {
   "cell_type": "code",
   "execution_count": 18,
   "id": "c71fabbb",
   "metadata": {},
   "outputs": [],
   "source": [
    "modi_neutral=modi[modi['polarity']==0.00000]"
   ]
  },
  {
   "cell_type": "code",
   "execution_count": 19,
   "id": "64bba5f7",
   "metadata": {},
   "outputs": [],
   "source": [
    "remove_neutral=modi['polarity'].isin(modi_neutral['polarity'])"
   ]
  },
  {
   "cell_type": "code",
   "execution_count": 20,
   "id": "4db4df4a",
   "metadata": {},
   "outputs": [],
   "source": [
    "modi.drop(modi[remove_neutral].index,inplace=True)  # inplace we take because hame ye continue chalana hai "
   ]
  },
  {
   "cell_type": "code",
   "execution_count": 21,
   "id": "62678e60",
   "metadata": {},
   "outputs": [],
   "source": [
    "rahul_neutral=rahul[rahul['polarity']==0.000]\n",
    "remove_neutral_rahul=rahul['polarity'].isin(rahul_neutral['polarity']) # here we remove newtral data"
   ]
  },
  {
   "cell_type": "code",
   "execution_count": 22,
   "id": "5400bb4b",
   "metadata": {},
   "outputs": [],
   "source": [
    "rahul.drop(rahul[remove_neutral_rahul].index,inplace=True)"
   ]
  },
  {
   "cell_type": "code",
   "execution_count": 23,
   "id": "62d7a8bb",
   "metadata": {},
   "outputs": [
    {
     "data": {
      "text/plain": [
       "(9367, 5)"
      ]
     },
     "execution_count": 23,
     "metadata": {},
     "output_type": "execute_result"
    }
   ],
   "source": [
    "rahul.shape\n"
   ]
  },
  {
   "cell_type": "code",
   "execution_count": 24,
   "id": "95d22c70",
   "metadata": {},
   "outputs": [
    {
     "data": {
      "text/plain": [
       "(17481, 5)"
      ]
     },
     "execution_count": 24,
     "metadata": {},
     "output_type": "execute_result"
    }
   ],
   "source": [
    "modi.shape"
   ]
  },
  {
   "cell_type": "code",
   "execution_count": 25,
   "id": "b2926b0d",
   "metadata": {},
   "outputs": [],
   "source": [
    "# modi\n",
    "np.random.seed(10)"
   ]
  },
  {
   "cell_type": "code",
   "execution_count": 26,
   "id": "ff034b6b",
   "metadata": {},
   "outputs": [],
   "source": [
    "remove_n=8481\n",
    "drop_indices=np.random.choice(modi.index,remove_n,replace=False)\n",
    "df_modi=modi.drop(drop_indices)"
   ]
  },
  {
   "cell_type": "code",
   "execution_count": 27,
   "id": "13f7ae09",
   "metadata": {},
   "outputs": [
    {
     "ename": "NameError",
     "evalue": "name 'df_drop' is not defined",
     "output_type": "error",
     "traceback": [
      "\u001b[1;31m---------------------------------------------------------------------------\u001b[0m",
      "\u001b[1;31mNameError\u001b[0m                                 Traceback (most recent call last)",
      "Cell \u001b[1;32mIn[27], line 1\u001b[0m\n\u001b[1;32m----> 1\u001b[0m df_drop\n",
      "\u001b[1;31mNameError\u001b[0m: name 'df_drop' is not defined"
     ]
    }
   ],
   "source": [
    "df_drop"
   ]
  },
  {
   "cell_type": "code",
   "execution_count": null,
   "id": "298547c3",
   "metadata": {},
   "outputs": [],
   "source": [
    "df_drop.shape"
   ]
  },
  {
   "cell_type": "code",
   "execution_count": null,
   "id": "3de93094",
   "metadata": {},
   "outputs": [],
   "source": [
    "# rahul\n",
    "np.random.seed(10)\n",
    "remove_n=367# removeing number of columns"
   ]
  },
  {
   "cell_type": "code",
   "execution_count": null,
   "id": "d12e24db",
   "metadata": {},
   "outputs": [],
   "source": [
    "df_drop=np.random.choice(rahul.index,remove_n,replace=False)"
   ]
  },
  {
   "cell_type": "code",
   "execution_count": null,
   "id": "5323a171",
   "metadata": {},
   "outputs": [],
   "source": [
    "df_rahul=rahul.drop(df_drop)"
   ]
  },
  {
   "cell_type": "code",
   "execution_count": null,
   "id": "b38a80c9",
   "metadata": {},
   "outputs": [],
   "source": [
    "df_drop.shape"
   ]
  },
  {
   "cell_type": "markdown",
   "id": "49b40f31",
   "metadata": {},
   "source": [
    " df_"
   ]
  },
  {
   "cell_type": "code",
   "execution_count": null,
   "id": "982ba604",
   "metadata": {},
   "outputs": [],
   "source": [
    "# prediction about india election \n",
    "modi_count=df_modi.groupby('label').count() # count total polarity\n",
    "modi_count"
   ]
  },
  {
   "cell_type": "code",
   "execution_count": null,
   "id": "76102b8f",
   "metadata": {},
   "outputs": [],
   "source": [
    "modi_neg=(modi_count['polarity'][0]/1000*100)\n",
    "modi_pos=(modi_count['polarity'][1]/1000*100)"
   ]
  },
  {
   "cell_type": "code",
   "execution_count": null,
   "id": "c3e9d7b1",
   "metadata": {},
   "outputs": [],
   "source": [
    "modi_neg\n"
   ]
  },
  {
   "cell_type": "code",
   "execution_count": null,
   "id": "da6d68a8",
   "metadata": {},
   "outputs": [],
   "source": [
    "modi_pos"
   ]
  },
  {
   "cell_type": "code",
   "execution_count": null,
   "id": "b863a9fc",
   "metadata": {},
   "outputs": [],
   "source": [
    "\n",
    "rahul_count=df_rahul.groupby('label').count()    # here we converting into persentage\n",
    "rahul_pos=(rahul_count['polarity'][1]/1000*100)\n",
    "rahul_neg=(rahul_count['polarity'][0]/1000*100)\n"
   ]
  },
  {
   "cell_type": "code",
   "execution_count": null,
   "id": "126da540",
   "metadata": {},
   "outputs": [],
   "source": [
    "rahul_pos=(rahul_count['polarity'][1]/1000*100)"
   ]
  },
  {
   "cell_type": "code",
   "execution_count": null,
   "id": "3fff54b9",
   "metadata": {},
   "outputs": [],
   "source": [
    "rahul_count"
   ]
  },
  {
   "cell_type": "code",
   "execution_count": null,
   "id": "087fee03",
   "metadata": {},
   "outputs": [],
   "source": [
    "rahul_pos"
   ]
  },
  {
   "cell_type": "code",
   "execution_count": null,
   "id": "ba77bbfc",
   "metadata": {},
   "outputs": [],
   "source": [
    "\"\"\"import plotly.graph_objects as go #contains an automatically-generated\n",
    "# hierarchy of Python classes which represent non-leaf nodes in this figure schema. The\"\"\""
   ]
  },
  {
   "cell_type": "code",
   "execution_count": null,
   "id": "5b3de7b5",
   "metadata": {},
   "outputs": [],
   "source": [
    "politicians=['modi','rahul']\n",
    "neg_list=[rahul_neg,modi_neg]\n",
    "pos_list=[rahul_pos,modi_pos]"
   ]
  },
  {
   "cell_type": "code",
   "execution_count": null,
   "id": "8f4a91b6",
   "metadata": {},
   "outputs": [],
   "source": [
    "import plotly.graph_objects as go"
   ]
  },
  {
   "cell_type": "code",
   "execution_count": null,
   "id": "305ea154",
   "metadata": {},
   "outputs": [],
   "source": [
    "politicians= ['rahul','modi']\n",
    "negative_list = [rahul_neg,modi_neg]  \n",
    "positive_list = [rahul_pos,modi_pos]\n",
    "     \n",
    "fig= go.Figure(\n",
    "\n",
    "   \n",
    "data=[\n",
    "    go.Bar(name='Positive',x=politicians,y=positive_list),\n",
    "    go.Bar(name='Negative',x=politicians,y=negative_list)\n",
    "   \n",
    "    \n",
    "]\n",
    "\n",
    ")\n",
    "fig.update_layout(barmode='group')\n",
    "fig.show()"
   ]
  },
  {
   "cell_type": "code",
   "execution_count": null,
   "id": "e2d65f10",
   "metadata": {},
   "outputs": [],
   "source": []
  },
  {
   "cell_type": "code",
   "execution_count": null,
   "id": "77991825",
   "metadata": {},
   "outputs": [],
   "source": []
  },
  {
   "cell_type": "code",
   "execution_count": null,
   "id": "b953feed",
   "metadata": {},
   "outputs": [],
   "source": []
  }
 ],
 "metadata": {
  "kernelspec": {
   "display_name": "Python 3 (ipykernel)",
   "language": "python",
   "name": "python3"
  },
  "language_info": {
   "codemirror_mode": {
    "name": "ipython",
    "version": 3
   },
   "file_extension": ".py",
   "mimetype": "text/x-python",
   "name": "python",
   "nbconvert_exporter": "python",
   "pygments_lexer": "ipython3",
   "version": "3.11.4"
  }
 },
 "nbformat": 4,
 "nbformat_minor": 5
}
